{
 "cells": [
  {
   "cell_type": "code",
   "execution_count": 17,
   "metadata": {},
   "outputs": [
    {
     "data": {
      "text/html": [
       "<div>\n",
       "<style scoped>\n",
       "    .dataframe tbody tr th:only-of-type {\n",
       "        vertical-align: middle;\n",
       "    }\n",
       "\n",
       "    .dataframe tbody tr th {\n",
       "        vertical-align: top;\n",
       "    }\n",
       "\n",
       "    .dataframe thead th {\n",
       "        text-align: right;\n",
       "    }\n",
       "</style>\n",
       "<table border=\"1\" class=\"dataframe\">\n",
       "  <thead>\n",
       "    <tr style=\"text-align: right;\">\n",
       "      <th></th>\n",
       "      <th>PassengerId</th>\n",
       "      <th>Survived</th>\n",
       "      <th>Pclass</th>\n",
       "      <th>Name</th>\n",
       "      <th>Sex</th>\n",
       "      <th>Age</th>\n",
       "      <th>SibSp</th>\n",
       "      <th>Parch</th>\n",
       "      <th>Ticket</th>\n",
       "      <th>Fare</th>\n",
       "      <th>Cabin</th>\n",
       "      <th>Embarked</th>\n",
       "    </tr>\n",
       "  </thead>\n",
       "  <tbody>\n",
       "    <tr>\n",
       "      <th>0</th>\n",
       "      <td>1</td>\n",
       "      <td>0</td>\n",
       "      <td>3</td>\n",
       "      <td>Braund, Mr. Owen Harris</td>\n",
       "      <td>male</td>\n",
       "      <td>22.0</td>\n",
       "      <td>1</td>\n",
       "      <td>0</td>\n",
       "      <td>A/5 21171</td>\n",
       "      <td>7.2500</td>\n",
       "      <td>NaN</td>\n",
       "      <td>S</td>\n",
       "    </tr>\n",
       "    <tr>\n",
       "      <th>1</th>\n",
       "      <td>2</td>\n",
       "      <td>1</td>\n",
       "      <td>1</td>\n",
       "      <td>Cumings, Mrs. John Bradley (Florence Briggs Th...</td>\n",
       "      <td>female</td>\n",
       "      <td>38.0</td>\n",
       "      <td>1</td>\n",
       "      <td>0</td>\n",
       "      <td>PC 17599</td>\n",
       "      <td>71.2833</td>\n",
       "      <td>C85</td>\n",
       "      <td>C</td>\n",
       "    </tr>\n",
       "    <tr>\n",
       "      <th>2</th>\n",
       "      <td>3</td>\n",
       "      <td>1</td>\n",
       "      <td>3</td>\n",
       "      <td>Heikkinen, Miss. Laina</td>\n",
       "      <td>female</td>\n",
       "      <td>26.0</td>\n",
       "      <td>0</td>\n",
       "      <td>0</td>\n",
       "      <td>STON/O2. 3101282</td>\n",
       "      <td>7.9250</td>\n",
       "      <td>NaN</td>\n",
       "      <td>S</td>\n",
       "    </tr>\n",
       "    <tr>\n",
       "      <th>3</th>\n",
       "      <td>4</td>\n",
       "      <td>1</td>\n",
       "      <td>1</td>\n",
       "      <td>Futrelle, Mrs. Jacques Heath (Lily May Peel)</td>\n",
       "      <td>female</td>\n",
       "      <td>35.0</td>\n",
       "      <td>1</td>\n",
       "      <td>0</td>\n",
       "      <td>113803</td>\n",
       "      <td>53.1000</td>\n",
       "      <td>C123</td>\n",
       "      <td>S</td>\n",
       "    </tr>\n",
       "    <tr>\n",
       "      <th>4</th>\n",
       "      <td>5</td>\n",
       "      <td>0</td>\n",
       "      <td>3</td>\n",
       "      <td>Allen, Mr. William Henry</td>\n",
       "      <td>male</td>\n",
       "      <td>35.0</td>\n",
       "      <td>0</td>\n",
       "      <td>0</td>\n",
       "      <td>373450</td>\n",
       "      <td>8.0500</td>\n",
       "      <td>NaN</td>\n",
       "      <td>S</td>\n",
       "    </tr>\n",
       "  </tbody>\n",
       "</table>\n",
       "</div>"
      ],
      "text/plain": [
       "   PassengerId  Survived  Pclass  \\\n",
       "0            1         0       3   \n",
       "1            2         1       1   \n",
       "2            3         1       3   \n",
       "3            4         1       1   \n",
       "4            5         0       3   \n",
       "\n",
       "                                                Name     Sex   Age  SibSp  \\\n",
       "0                            Braund, Mr. Owen Harris    male  22.0      1   \n",
       "1  Cumings, Mrs. John Bradley (Florence Briggs Th...  female  38.0      1   \n",
       "2                             Heikkinen, Miss. Laina  female  26.0      0   \n",
       "3       Futrelle, Mrs. Jacques Heath (Lily May Peel)  female  35.0      1   \n",
       "4                           Allen, Mr. William Henry    male  35.0      0   \n",
       "\n",
       "   Parch            Ticket     Fare Cabin Embarked  \n",
       "0      0         A/5 21171   7.2500   NaN        S  \n",
       "1      0          PC 17599  71.2833   C85        C  \n",
       "2      0  STON/O2. 3101282   7.9250   NaN        S  \n",
       "3      0            113803  53.1000  C123        S  \n",
       "4      0            373450   8.0500   NaN        S  "
      ]
     },
     "execution_count": 17,
     "metadata": {},
     "output_type": "execute_result"
    }
   ],
   "source": [
    "import pandas\n",
    "titanic = pandas.read_csv(r\"C:\\Users\\soft_01\\Desktop\\learn\\learning\\Titanic\\train.csv\")\n",
    "titanic.head(5)"
   ]
  },
  {
   "cell_type": "code",
   "execution_count": 2,
   "metadata": {},
   "outputs": [
    {
     "data": {
      "text/html": [
       "<div>\n",
       "<style scoped>\n",
       "    .dataframe tbody tr th:only-of-type {\n",
       "        vertical-align: middle;\n",
       "    }\n",
       "\n",
       "    .dataframe tbody tr th {\n",
       "        vertical-align: top;\n",
       "    }\n",
       "\n",
       "    .dataframe thead th {\n",
       "        text-align: right;\n",
       "    }\n",
       "</style>\n",
       "<table border=\"1\" class=\"dataframe\">\n",
       "  <thead>\n",
       "    <tr style=\"text-align: right;\">\n",
       "      <th></th>\n",
       "      <th>PassengerId</th>\n",
       "      <th>Survived</th>\n",
       "      <th>Pclass</th>\n",
       "      <th>Age</th>\n",
       "      <th>SibSp</th>\n",
       "      <th>Parch</th>\n",
       "      <th>Fare</th>\n",
       "    </tr>\n",
       "  </thead>\n",
       "  <tbody>\n",
       "    <tr>\n",
       "      <th>count</th>\n",
       "      <td>891.000000</td>\n",
       "      <td>891.000000</td>\n",
       "      <td>891.000000</td>\n",
       "      <td>891.000000</td>\n",
       "      <td>891.000000</td>\n",
       "      <td>891.000000</td>\n",
       "      <td>891.000000</td>\n",
       "    </tr>\n",
       "    <tr>\n",
       "      <th>mean</th>\n",
       "      <td>446.000000</td>\n",
       "      <td>0.383838</td>\n",
       "      <td>2.308642</td>\n",
       "      <td>29.361582</td>\n",
       "      <td>0.523008</td>\n",
       "      <td>0.381594</td>\n",
       "      <td>32.204208</td>\n",
       "    </tr>\n",
       "    <tr>\n",
       "      <th>std</th>\n",
       "      <td>257.353842</td>\n",
       "      <td>0.486592</td>\n",
       "      <td>0.836071</td>\n",
       "      <td>13.019697</td>\n",
       "      <td>1.102743</td>\n",
       "      <td>0.806057</td>\n",
       "      <td>49.693429</td>\n",
       "    </tr>\n",
       "    <tr>\n",
       "      <th>min</th>\n",
       "      <td>1.000000</td>\n",
       "      <td>0.000000</td>\n",
       "      <td>1.000000</td>\n",
       "      <td>0.420000</td>\n",
       "      <td>0.000000</td>\n",
       "      <td>0.000000</td>\n",
       "      <td>0.000000</td>\n",
       "    </tr>\n",
       "    <tr>\n",
       "      <th>25%</th>\n",
       "      <td>223.500000</td>\n",
       "      <td>0.000000</td>\n",
       "      <td>2.000000</td>\n",
       "      <td>22.000000</td>\n",
       "      <td>0.000000</td>\n",
       "      <td>0.000000</td>\n",
       "      <td>7.910400</td>\n",
       "    </tr>\n",
       "    <tr>\n",
       "      <th>50%</th>\n",
       "      <td>446.000000</td>\n",
       "      <td>0.000000</td>\n",
       "      <td>3.000000</td>\n",
       "      <td>28.000000</td>\n",
       "      <td>0.000000</td>\n",
       "      <td>0.000000</td>\n",
       "      <td>14.454200</td>\n",
       "    </tr>\n",
       "    <tr>\n",
       "      <th>75%</th>\n",
       "      <td>668.500000</td>\n",
       "      <td>1.000000</td>\n",
       "      <td>3.000000</td>\n",
       "      <td>35.000000</td>\n",
       "      <td>1.000000</td>\n",
       "      <td>0.000000</td>\n",
       "      <td>31.000000</td>\n",
       "    </tr>\n",
       "    <tr>\n",
       "      <th>max</th>\n",
       "      <td>891.000000</td>\n",
       "      <td>1.000000</td>\n",
       "      <td>3.000000</td>\n",
       "      <td>80.000000</td>\n",
       "      <td>8.000000</td>\n",
       "      <td>6.000000</td>\n",
       "      <td>512.329200</td>\n",
       "    </tr>\n",
       "  </tbody>\n",
       "</table>\n",
       "</div>"
      ],
      "text/plain": [
       "       PassengerId    Survived      Pclass         Age       SibSp  \\\n",
       "count   891.000000  891.000000  891.000000  891.000000  891.000000   \n",
       "mean    446.000000    0.383838    2.308642   29.361582    0.523008   \n",
       "std     257.353842    0.486592    0.836071   13.019697    1.102743   \n",
       "min       1.000000    0.000000    1.000000    0.420000    0.000000   \n",
       "25%     223.500000    0.000000    2.000000   22.000000    0.000000   \n",
       "50%     446.000000    0.000000    3.000000   28.000000    0.000000   \n",
       "75%     668.500000    1.000000    3.000000   35.000000    1.000000   \n",
       "max     891.000000    1.000000    3.000000   80.000000    8.000000   \n",
       "\n",
       "            Parch        Fare  \n",
       "count  891.000000  891.000000  \n",
       "mean     0.381594   32.204208  \n",
       "std      0.806057   49.693429  \n",
       "min      0.000000    0.000000  \n",
       "25%      0.000000    7.910400  \n",
       "50%      0.000000   14.454200  \n",
       "75%      0.000000   31.000000  \n",
       "max      6.000000  512.329200  "
      ]
     },
     "execution_count": 2,
     "metadata": {},
     "output_type": "execute_result"
    }
   ],
   "source": [
    "titanic[\"Age\"] = titanic[\"Age\"].fillna(titanic[\"Age\"].median())\n",
    "titanic.describe()"
   ]
  },
  {
   "cell_type": "code",
   "execution_count": 3,
   "metadata": {},
   "outputs": [],
   "source": [
    "titanic[\"Sex\"].unique()\n",
    "titanic.loc[titanic[\"Sex\"] == \"male\", \"Sex\"] = 0\n",
    "titanic.loc[titanic[\"Sex\"] == \"female\", \"Sex\"] = 1"
   ]
  },
  {
   "cell_type": "code",
   "execution_count": 4,
   "metadata": {},
   "outputs": [],
   "source": [
    "titanic[\"Embarked\"].unique()\n",
    "titanic[\"Embarked\"] = titanic[\"Embarked\"].fillna('S')\n",
    "titanic.loc[titanic[\"Embarked\"] == \"S\", \"Embarked\"] = 0\n",
    "titanic.loc[titanic[\"Embarked\"] == \"C\", \"Embarked\"] = 1\n",
    "titanic.loc[titanic[\"Embarked\"] == \"Q\", \"Embarked\"] = 2"
   ]
  },
  {
   "cell_type": "code",
   "execution_count": 5,
   "metadata": {},
   "outputs": [],
   "source": [
    "from sklearn.linear_model import LinearRegression\n",
    "from sklearn.model_selection import KFold\n",
    "\n",
    "predictors =[\"Pclass\",\"Sex\",\"Age\",\"SibSp\",\"Parch\",\"Fare\",\"Embarked\"]\n",
    "\n",
    "alg  = LinearRegression()\n",
    "\n",
    "kf = KFold(n_splits = 3, random_state = 1, shuffle=True)\n",
    "\n",
    "predictions = []\n",
    "for train,test in kf.split(titanic):\n",
    "\ttrain_predictors =(titanic[predictors].iloc[train,:])\n",
    "\ttrain_target = titanic[\"Survived\"].iloc[train]\n",
    "\talg.fit(train_predictors,train_target)\n",
    "\ttest_predictions = alg.predict(titanic[predictors].iloc[test,:])\n",
    "\tpredictions.append(test_predictions)\n"
   ]
  },
  {
   "cell_type": "code",
   "execution_count": 6,
   "metadata": {},
   "outputs": [
    {
     "data": {
      "text/plain": [
       "0.5342312008978676"
      ]
     },
     "execution_count": 6,
     "metadata": {},
     "output_type": "execute_result"
    }
   ],
   "source": [
    "import numpy as np\n",
    "\n",
    "predictions = np.concatenate(predictions, axis = 0)\n",
    "\n",
    "predictions[predictions > .5] = 1\n",
    "predictions[predictions <= .5] = 0\n",
    "accuracy = len(predictions[predictions == titanic[\"Survived\"]]) / len(predictions)\n",
    "accuracy"
   ]
  },
  {
   "cell_type": "code",
   "execution_count": 7,
   "metadata": {},
   "outputs": [
    {
     "name": "stdout",
     "output_type": "stream",
     "text": [
      "0.7946127946127947\n"
     ]
    }
   ],
   "source": [
    "from sklearn import model_selection\n",
    "from sklearn.linear_model import LogisticRegression\n",
    "\n",
    "alg  = LogisticRegression(random_state = 1,max_iter = 1000)\n",
    "\n",
    "scores = model_selection.cross_val_score(alg,titanic[predictors],titanic[\"Survived\"],cv=3)\n",
    "\n",
    "print(scores.mean())"
   ]
  },
  {
   "cell_type": "code",
   "execution_count": 8,
   "metadata": {},
   "outputs": [],
   "source": [
    "titanic_test = pandas.read_csv(r\"C:\\Users\\soft_01\\Desktop\\learn\\learning\\Titanic\\test.csv\")\n",
    "titanic_test[\"Age\"] = titanic_test[\"Age\"].fillna(titanic[\"Age\"].median())\n",
    "titanic_test[\"Fare\"] = titanic_test[\"Fare\"].fillna(titanic_test[\"Fare\"].median())\n",
    "titanic_test.loc[titanic_test[\"Sex\"] == \"male\", \"Sex\"] = 0\n",
    "titanic_test.loc[titanic_test[\"Sex\"] == \"female\", \"Sex\"] = 1\n",
    "titanic_test[\"Embarked\"] = titanic_test[\"Embarked\"].fillna(\"S\")\n",
    "titanic_test.loc[titanic_test[\"Embarked\"] == \"S\", \"Embarked\"] = 0\n",
    "titanic_test.loc[titanic_test[\"Embarked\"] == \"C\", \"Embarked\"] = 1\n",
    "titanic_test.loc[titanic_test[\"Embarked\"] == \"Q\", \"Embarked\"] = 2"
   ]
  },
  {
   "cell_type": "code",
   "execution_count": 9,
   "metadata": {},
   "outputs": [
    {
     "name": "stdout",
     "output_type": "stream",
     "text": [
      "0.7901234567901234\n"
     ]
    }
   ],
   "source": [
    "from sklearn import model_selection\n",
    "from sklearn.ensemble import RandomForestClassifier\n",
    "\n",
    "predictors =[\"Pclass\",\"Sex\",\"Age\",\"SibSp\",\"Parch\",\"Fare\",\"Embarked\"]\n",
    "\n",
    "alg = RandomForestClassifier(random_state = 1,n_estimators=20,min_samples_split=2,min_samples_leaf=1)\n",
    "\n",
    "kf = model_selection.KFold(n_splits = 3, random_state = 1, shuffle=True)\n",
    "\n",
    "scores = model_selection.cross_val_score(alg,titanic[predictors],titanic[\"Survived\"],cv=kf)\n",
    "\n",
    "print(scores.mean())"
   ]
  },
  {
   "cell_type": "code",
   "execution_count": 10,
   "metadata": {},
   "outputs": [
    {
     "name": "stdout",
     "output_type": "stream",
     "text": [
      "0.8080808080808081\n"
     ]
    }
   ],
   "source": [
    "alg = RandomForestClassifier(random_state = 1,n_estimators=100,min_samples_split=2,min_samples_leaf=1)\n",
    "\n",
    "kf = model_selection.KFold(n_splits = 3, random_state = 1, shuffle=True)\n",
    "\n",
    "scores = model_selection.cross_val_score(alg,titanic[predictors],titanic[\"Survived\"],cv=kf)\n",
    "\n",
    "print(scores.mean())"
   ]
  },
  {
   "cell_type": "code",
   "execution_count": 11,
   "metadata": {},
   "outputs": [],
   "source": [
    "titanic[\"FamilySize\"] = titanic[\"SibSp\"] + titanic[\"Parch\"]\n",
    "titanic[\"NameLength\"] = titanic[\"Name\"].apply(lambda x:len(x))"
   ]
  },
  {
   "cell_type": "code",
   "execution_count": 12,
   "metadata": {},
   "outputs": [
    {
     "name": "stdout",
     "output_type": "stream",
     "text": [
      "Mr          517\n",
      "Miss        182\n",
      "Mrs         125\n",
      "Master       40\n",
      "Dr            7\n",
      "Rev           6\n",
      "Col           2\n",
      "Mlle          2\n",
      "Major         2\n",
      "Ms            1\n",
      "Don           1\n",
      "Sir           1\n",
      "Capt          1\n",
      "Lady          1\n",
      "Countess      1\n",
      "Jonkheer      1\n",
      "Mme           1\n",
      "Name: Name, dtype: int64\n",
      "1     517\n",
      "2     182\n",
      "3     125\n",
      "4      40\n",
      "5       7\n",
      "6       6\n",
      "8       5\n",
      "7       4\n",
      "10      3\n",
      "9       2\n",
      "Name: Name, dtype: int64\n"
     ]
    }
   ],
   "source": [
    "import re\n",
    "\n",
    "def get_title(name):\n",
    "\ttitle_search = re.search(' ([A-Za-z]+)\\.',name)\n",
    "\tif title_search:\n",
    "\t\treturn title_search.group(1)\n",
    "\treturn \"\"\n",
    "\n",
    "titles = titanic[\"Name\"].apply(get_title)\n",
    "print(pandas.value_counts(titles))\n",
    "\n",
    "title_mapping = {\"Mr\":1, \"Miss\":2 ,\"Mrs\":3, \"Master\":4, \"Dr\":5, \"Rev\":6,\"Major\":7,\"Col\":7,\"Mlle\":8,\"Countess\":8,\"Ms\":8,\"Lady\":8,\"Jonkheer\":9,\"Don\":9,\"Mme\":10,\"Capt\":10,\"Sir\":10}\n",
    "for k,v in title_mapping.items():\n",
    "\ttitles[titles == k] = v\n",
    "\n",
    "print(pandas.value_counts(titles))\n",
    "\n",
    "titanic[\"Title\"] = titles"
   ]
  },
  {
   "cell_type": "code",
   "execution_count": 13,
   "metadata": {},
   "outputs": [
    {
     "data": {
      "image/png": "[encoded data removed]",
      "text/plain": [
       "<Figure size 432x288 with 1 Axes>"
      ]
     },
     "metadata": {
      "needs_background": "light"
     },
     "output_type": "display_data"
    }
   ],
   "source": [
    "import numpy as np\n",
    "from sklearn.feature_selection import SelectKBest, f_classif\n",
    "import matplotlib.pyplot as plt\n",
    "%matplotlib inline\n",
    "predictors =[\"Pclass\",\"Sex\",\"Age\",\"SibSp\",\"Parch\",\"Fare\",\"Embarked\",\"FamilySize\",\"Title\",\"NameLength\"]\n",
    "\n",
    "selector = SelectKBest(f_classif, k=5)\n",
    "selector.fit(titanic[predictors],titanic[\"Survived\"])\n",
    "\n",
    "scores = -np.log10(selector.pvalues_)\n",
    "\n",
    "plt.bar(range(len(predictors)),scores)\n",
    "plt.xticks(range(len(predictors)),predictors,rotation=\"vertical\")\n",
    "plt.show()\n",
    "\n",
    "predictors = [\"Pclass\",\"Sex\",\"Fare\",\"Title\"]\n",
    "\n",
    "alg = RandomForestClassifier(random_state = 1,n_estimators=50,min_samples_split=8,min_samples_leaf=4)\n"
   ]
  },
  {
   "cell_type": "code",
   "execution_count": 14,
   "metadata": {},
   "outputs": [
    {
     "data": {
      "text/plain": [
       "0.5454545454545454"
      ]
     },
     "execution_count": 14,
     "metadata": {},
     "output_type": "execute_result"
    }
   ],
   "source": [
    "from sklearn.ensemble import GradientBoostingClassifier\n",
    "import numpy as np\n",
    "\n",
    "algorithms = [\n",
    "[GradientBoostingClassifier(random_state=1,n_estimators=25,max_depth=3),[\"Pclass\",\"Sex\",\"Fare\",\"FamilySize\",\"Title\",\"Age\",\"Embarked\"]],\n",
    "[LogisticRegression(random_state = 1,max_iter = 1000),[\"Pclass\",\"Sex\",\"Fare\",\"FamilySize\",\"Title\",\"Age\",\"Embarked\"]]\n",
    "]\n",
    "\n",
    "kf = KFold(n_splits = 3, random_state = 1, shuffle=True)\n",
    "\n",
    "predictions = []\n",
    "for i,(train,test) in enumerate(kf.split(titanic)):\n",
    "\ttrain_target = titanic[\"Survived\"].iloc[train]\n",
    "\tfull_test_predictions =[]\n",
    "\n",
    "\tfor alg,predictors in algorithms:\n",
    "\t\talg.fit(titanic[predictors].iloc[train,:],train_target)\n",
    "\t\ttest_predictions = alg.predict_proba(titanic[predictors].iloc[test,:].astype(float))[:,1]\n",
    "\t\tfull_test_predictions.append(test_predictions)\n",
    "\n",
    "\ttest_predictions = (full_test_predictions[0] + full_test_predictions[1]) / 2\n",
    "    \n",
    "\ttest_predictions[test_predictions > .5] = 1\n",
    "\ttest_predictions[test_predictions <= .5] = 0\n",
    "\tpredictions.append(test_predictions)\n",
    "\n",
    "\n",
    "predictions = np.concatenate(predictions, axis=0)\n",
    "\n",
    "accuracy = len(predictions[predictions == titanic[\"Survived\"]]) / len(predictions)\n",
    "accuracy"
   ]
  },
  {
   "cell_type": "code",
   "execution_count": 15,
   "metadata": {},
   "outputs": [
    {
     "name": "stdout",
     "output_type": "stream",
     "text": [
      "1     228\n",
      "2     101\n",
      "3      58\n",
      "4      23\n",
      "6       3\n",
      "5       3\n",
      "10      1\n",
      "9       1\n",
      "Name: Title, dtype: int64\n"
     ]
    }
   ],
   "source": [
    "titles = titanic[\"Name\"].apply(get_title)\n",
    "\n",
    "title_mapping = {\"Mr\":1, \"Miss\":2 ,\"Mrs\":3, \"Master\":4, \"Dr\":5, \"Rev\":6,\"Major\":7,\"Col\":7,\"Mlle\":8,\"Countess\":8,\"Ms\":8,\"Lady\":8,\"Jonkheer\":9,\"Don\":9,\"Mme\":10,\"Capt\":10,\"Sir\":10}\n",
    "for k,v in title_mapping.items():\n",
    "\ttitles[titles == k] = v\n",
    "titanic_test[\"Title\"] = titles\n",
    "\n",
    "print(pandas.value_counts(titanic_test[\"Title\"]))\n",
    "\n",
    "titanic_test[\"FamilySize\"] = titanic_test[\"SibSp\"] + titanic_test[\"Parch\"]"
   ]
  },
  {
   "cell_type": "code",
   "execution_count": 16,
   "metadata": {},
   "outputs": [
    {
     "data": {
      "text/plain": [
       "array([0.11039755, 0.46505835, 0.35579692, 0.31387882, 0.26269612,\n",
       "       0.14287421, 0.37937973, 0.51275865, 0.68286512, 0.2967455 ,\n",
       "       0.29654452, 0.54985213, 0.73585257, 0.10466493, 0.88051785,\n",
       "       0.87970402, 0.44571256, 0.1422791 , 0.55224633, 0.53422681,\n",
       "       0.24949903, 0.27672514, 0.90104314, 0.38780324, 0.87226075,\n",
       "       0.27920128, 0.74005571, 0.14051188, 0.58490975, 0.12931174,\n",
       "       0.39152447, 0.50049017, 0.49989626, 0.23456248, 0.40577366,\n",
       "       0.14539563, 0.28201289, 0.29916182, 0.30611895, 0.40542888,\n",
       "       0.27465364, 0.64283064, 0.10190382, 0.82619891, 0.89025793,\n",
       "       0.14673399, 0.28708799, 0.32238157, 0.65593311, 0.50797634,\n",
       "       0.6820192 , 0.17809982, 0.85131249, 0.87858628, 0.17629294,\n",
       "       0.16923658, 0.27800336, 0.12608067, 0.33322836, 0.92117073,\n",
       "       0.13433733, 0.41069518, 0.13318185, 0.69681669, 0.33612269,\n",
       "       0.87953146, 0.69124246, 0.28593148, 0.60104432, 0.58440936,\n",
       "       0.42062684, 0.30480505, 0.31117815, 0.35854977, 0.74987011,\n",
       "       0.37488466, 0.12826856, 0.43039083, 0.44975288, 0.66745115,\n",
       "       0.40905874, 0.18819971, 0.54327387, 0.12350086, 0.45440511,\n",
       "       0.32337061, 0.41392742, 0.30609057, 0.65942545, 0.45668036,\n",
       "       0.2806064 , 0.1234913 , 0.70247165, 0.12826856, 0.27946362,\n",
       "       0.12609336, 0.62698608, 0.14331943, 0.60789346, 0.12054513,\n",
       "       0.90177689, 0.15180544, 0.14053059, 0.12519716, 0.33614903,\n",
       "       0.12944057, 0.33338689, 0.14053059, 0.12832107, 0.43846395,\n",
       "       0.13258956, 0.65943125, 0.72769843, 0.67748128, 0.8673135 ,\n",
       "       0.14333964, 0.13458277, 0.39926288, 0.3763597 , 0.84669987,\n",
       "       0.58111568, 0.13311355, 0.73233905, 0.29647872, 0.14053059,\n",
       "       0.58396119, 0.12895012, 0.32357226, 0.38608893, 0.13179461,\n",
       "       0.12516794, 0.22673274, 0.23594028, 0.31620803, 0.10087568,\n",
       "       0.12702153, 0.31688761, 0.16299396, 0.29422143, 0.130482  ,\n",
       "       0.2293823 , 0.90876379, 0.46177766, 0.16168126, 0.42819869,\n",
       "       0.11487965, 0.33783499, 0.30959782, 0.46840018, 0.370183  ,\n",
       "       0.87183202, 0.32644752, 0.09856892, 0.2251167 , 0.14688402,\n",
       "       0.12699423, 0.91381918, 0.34287911, 0.42819869, 0.51246719,\n",
       "       0.41160197, 0.57686797, 0.55962089, 0.12343006, 0.41702228,\n",
       "       0.57319339, 0.59638568, 0.11601881, 0.72237125, 0.29683916,\n",
       "       0.12347351, 0.34204751, 0.30098134, 0.13465694, 0.14040041,\n",
       "       0.63960316, 0.89614031, 0.62450916, 0.57715129, 0.59031214,\n",
       "       0.4143477 , 0.34250223, 0.90698378, 0.35089855, 0.91227976,\n",
       "       0.13480813, 0.87045197, 0.12570882, 0.22007956, 0.13445014,\n",
       "       0.47010405, 0.25043869, 0.46507644, 0.38123028, 0.70578721,\n",
       "       0.27977128, 0.6112649 , 0.35473229, 0.42802312, 0.50174062,\n",
       "       0.35606689, 0.41563512, 0.32608258, 0.58755529, 0.16433816,\n",
       "       0.5951444 , 0.36055022, 0.16613819, 0.88492652, 0.12610206,\n",
       "       0.1261971 , 0.29645836, 0.25975724, 0.43908874, 0.21749756,\n",
       "       0.57050608, 0.65945111, 0.20387684, 0.89477653, 0.12826856,\n",
       "       0.53068462, 0.13474277, 0.56595695, 0.12996225, 0.5982366 ,\n",
       "       0.30826567, 0.12796833, 0.41160565, 0.11254805, 0.40356786,\n",
       "       0.5831193 , 0.8246056 , 0.12328218, 0.3223994 , 0.35137113,\n",
       "       0.30611706, 0.2145086 , 0.32607358, 0.54768918, 0.72192608,\n",
       "       0.85900314, 0.80290563, 0.33598013, 0.1235002 , 0.11626088,\n",
       "       0.48924875, 0.8678629 , 0.4632313 , 0.54232135, 0.60652864,\n",
       "       0.41164583, 0.3536032 , 0.39080607, 0.1319094 , 0.30691941,\n",
       "       0.30631758, 0.33540717, 0.30261641, 0.84180968, 0.31662751,\n",
       "       0.11100859, 0.330961  , 0.52600196, 0.3982918 , 0.40700662,\n",
       "       0.12350086, 0.22005537, 0.12347351, 0.52028152, 0.31645208,\n",
       "       0.352536  , 0.14053059, 0.91460998, 0.33922569, 0.31498274,\n",
       "       0.86142432, 0.41775887, 0.12772661, 0.49403395, 0.44876099,\n",
       "       0.2943631 , 0.41503477, 0.41160565, 0.35433588, 0.39777157,\n",
       "       0.10817252, 0.1234498 , 0.37120932, 0.13465694, 0.30261641,\n",
       "       0.61149275, 0.64188122, 0.13465694, 0.56865607, 0.11863104,\n",
       "       0.12520735, 0.42898839, 0.36513974, 0.33146488, 0.3050331 ,\n",
       "       0.29252161, 0.17619644, 0.12427048, 0.30720691, 0.41160565,\n",
       "       0.83868596, 0.61551481, 0.67667197, 0.23069257, 0.38193366,\n",
       "       0.315024  , 0.32308283, 0.30632079, 0.34901714, 0.67179852,\n",
       "       0.68011911, 0.6036005 , 0.35751899, 0.29762082, 0.50449124,\n",
       "       0.12519716, 0.13773197, 0.4222537 , 0.6307917 , 0.73863996,\n",
       "       0.30217619, 0.63183034, 0.65017698, 0.47977404, 0.43287722,\n",
       "       0.79716343, 0.300741  , 0.13465654, 0.33050205, 0.30772141,\n",
       "       0.24560588, 0.15314638, 0.24584533, 0.21656292, 0.13465694,\n",
       "       0.47844289, 0.29250394, 0.16146532, 0.73609859, 0.11919753,\n",
       "       0.62416682, 0.4222537 , 0.60607608, 0.46437723, 0.55168189,\n",
       "       0.72033263, 0.16433816, 0.25752589, 0.18710948, 0.38556227,\n",
       "       0.16192654, 0.8379397 , 0.29654283, 0.32238157, 0.52009565,\n",
       "       0.16279142, 0.63334423, 0.86678342, 0.12915872, 0.75712729,\n",
       "       0.22007956, 0.32337112, 0.54153979, 0.89204043, 0.47942549,\n",
       "       0.159101  , 0.74791512, 0.16084752, 0.12975758, 0.86054822,\n",
       "       0.91651887, 0.48185536, 0.17194214, 0.21296081, 0.15600582,\n",
       "       0.32238157, 0.32535531, 0.28353224, 0.5646264 , 0.15954176,\n",
       "       0.62481285, 0.32540681, 0.36808363, 0.14944735, 0.16886567,\n",
       "       0.39384752, 0.62020404, 0.21466754, 0.37892755, 0.13825631,\n",
       "       0.73816206, 0.32836389, 0.70658039, 0.32766197, 0.3015438 ,\n",
       "       0.7418184 , 0.12935531, 0.90932181, 0.36371648, 0.54698919,\n",
       "       0.19215803, 0.15568662, 0.61377245, 0.41159921, 0.66096809,\n",
       "       0.41160565, 0.73893115, 0.57307609, 0.12826856, 0.74024065,\n",
       "       0.27506964, 0.31243797, 0.36519477])"
      ]
     },
     "execution_count": 16,
     "metadata": {},
     "output_type": "execute_result"
    }
   ],
   "source": [
    "predictors = [\"Pclass\",\"Sex\",\"Fare\",\"FamilySize\",\"Title\",\"Age\",\"Embarked\"]\n",
    "\n",
    "algorithms = [\n",
    "[GradientBoostingClassifier(random_state=1,n_estimators=25,max_depth=3),predictors],\n",
    "[LogisticRegression(random_state = 1,max_iter = 1000),[\"Pclass\",\"Sex\",\"Fare\",\"FamilySize\",\"Title\",\"Age\",\"Embarked\"]]\n",
    "]\n",
    "\n",
    "full_predictions = []\n",
    "for alg,predictors in algorithms:\n",
    "\t\talg.fit(titanic[predictors],titanic[\"Survived\"])\n",
    "\t\tpredictions = alg.predict_proba(titanic_test[predictors].astype(float))[:,1]\n",
    "\t\tfull_predictions.append(predictions)\n",
    "\n",
    "predictions = (full_predictions[0] * 3 + full_predictions[1]) / 4\n",
    "predictions\n"
   ]
  },
  {
   "cell_type": "code",
   "execution_count": null,
   "metadata": {},
   "outputs": [],
   "source": []
  }
 ],
 "metadata": {
  "kernelspec": {
   "display_name": "Python 3",
   "language": "python",
   "name": "python3"
  },
  "language_info": {
   "codemirror_mode": {
    "name": "ipython",
    "version": 3
   },
   "file_extension": ".py",
   "mimetype": "text/x-python",
   "name": "python",
   "nbconvert_exporter": "python",
   "pygments_lexer": "ipython3",
   "version": "3.7.4"
  }
 },
 "nbformat": 4,
 "nbformat_minor": 2
}
