{
 "cells": [
  {
   "cell_type": "markdown",
   "metadata": {},
   "source": [
    "mnist = tf.keras.datasets.mnist\n",
    "(train_x,train_y),(test_x,test_y) = mnist.load_data(path='./mnist.npz')"
   ]
  },
  {
   "cell_type": "code",
   "execution_count": 6,
   "metadata": {},
   "outputs": [
    {
     "name": "stdout",
     "output_type": "stream",
     "text": [
      "(60000, 28, 28)\n",
      "(60000,)\n",
      "(10000, 28, 28)\n",
      "(10000, 28, 28)\n"
     ]
    }
   ],
   "source": [
    "print(train_x.shape)\n",
    "print(train_y.shape)\n",
    "print(test_x.shape)\n",
    "print(test_x.shape)"
   ]
  },
  {
   "cell_type": "code",
   "execution_count": 8,
   "metadata": {},
   "outputs": [
    {
     "name": "stdout",
     "output_type": "stream",
     "text": [
      "(60000, 784)\n",
      "(10000, 784)\n"
     ]
    }
   ],
   "source": [
    "train_x = train_x.reshape(-1, 28 * 28)\n",
    "test_x = test_x.reshape(-1, 28 * 28)\n",
    "print(train_x.shape)\n",
    "print(test_x.shape)"
   ]
  },
  {
   "cell_type": "code",
   "execution_count": 10,
   "metadata": {},
   "outputs": [
    {
     "data": {
      "text/plain": [
       "(tensorflow.python.framework.ops.EagerTensor,\n",
       " tensorflow.python.framework.ops.EagerTensor)"
      ]
     },
     "execution_count": 10,
     "metadata": {},
     "output_type": "execute_result"
    }
   ],
   "source": [
    "train_x,test_x = tf.cast(train_x/255.0, tf.float32), tf.cast(test_x/255.0, tf.float32)\n",
    "train_y,test_y = tf.cast(train_y, tf.int32), tf.cast(test_y, tf.int32)\n",
    "type(train_x), type(train_y)"
   ]
  },
  {
   "cell_type": "code",
   "execution_count": 23,
   "metadata": {},
   "outputs": [
    {
     "name": "stdout",
     "output_type": "stream",
     "text": [
      "Model: \"sequential_1\"\n",
      "_________________________________________________________________\n",
      "Layer (type)                 Output Shape              Param #   \n",
      "=================================================================\n",
      "dense_2 (Dense)              (None, 512)               401920    \n",
      "_________________________________________________________________\n",
      "dense_3 (Dense)              (None, 10)                5130      \n",
      "=================================================================\n",
      "Total params: 407,050\n",
      "Trainable params: 407,050\n",
      "Non-trainable params: 0\n",
      "_________________________________________________________________\n",
      "Epoch 1/15\n",
      "469/469 [==============================] - 3s 7ms/step - loss: 1.4776 - accuracy: 0.6522\n",
      "Epoch 2/15\n",
      "469/469 [==============================] - 3s 7ms/step - loss: 0.5852 - accuracy: 0.8541\n",
      "Epoch 3/15\n",
      "469/469 [==============================] - 4s 8ms/step - loss: 0.4106 - accuracy: 0.8888\n",
      "Epoch 4/15\n",
      "469/469 [==============================] - 3s 7ms/step - loss: 0.3536 - accuracy: 0.9009\n",
      "Epoch 5/15\n",
      "469/469 [==============================] - 4s 8ms/step - loss: 0.3247 - accuracy: 0.9068\n",
      "Epoch 6/15\n",
      "469/469 [==============================] - 4s 8ms/step - loss: 0.3062 - accuracy: 0.9121\n",
      "Epoch 7/15\n",
      "469/469 [==============================] - 4s 8ms/step - loss: 0.2923 - accuracy: 0.9157\n",
      "Epoch 8/15\n",
      "469/469 [==============================] - 4s 8ms/step - loss: 0.2806 - accuracy: 0.9189\n",
      "Epoch 9/15\n",
      "469/469 [==============================] - ETA: 0s - loss: 0.2700 - accuracy: 0.92 - 3s 7ms/step - loss: 0.2701 - accuracy: 0.9220\n",
      "Epoch 10/15\n",
      "469/469 [==============================] - 3s 7ms/step - loss: 0.2602 - accuracy: 0.9250\n",
      "Epoch 11/15\n",
      "469/469 [==============================] - 3s 7ms/step - loss: 0.2510 - accuracy: 0.9269\n",
      "Epoch 12/15\n",
      "469/469 [==============================] - 3s 7ms/step - loss: 0.2420 - accuracy: 0.9297\n",
      "Epoch 13/15\n",
      "469/469 [==============================] - 3s 7ms/step - loss: 0.2332 - accuracy: 0.9326\n",
      "Epoch 14/15\n",
      "469/469 [==============================] - 3s 7ms/step - loss: 0.2243 - accuracy: 0.9353\n",
      "Epoch 15/15\n",
      "469/469 [==============================] - 3s 7ms/step - loss: 0.2158 - accuracy: 0.9376\n"
     ]
    },
    {
     "data": {
      "text/plain": [
       "<tensorflow.python.keras.callbacks.History at 0x2f02551d808>"
      ]
     },
     "execution_count": 23,
     "metadata": {},
     "output_type": "execute_result"
    }
   ],
   "source": [
    "network = tf.keras.models.Sequential()\n",
    "network.add(tf.keras.layers.Dense(512,activation='relu', input_shape=(28*28,)))\n",
    "network.add(tf.keras.layers.Dense(10,activation='softmax'))\n",
    "\n",
    "network.summary()\n",
    "\n",
    "network.compile(optimizer='rmsprop',\n",
    "                loss='sparse_categorical_crossentropy',\n",
    "                metrics=['accuracy'])\n",
    "network.fit(train_x, train_y, epochs=15, batch_size=128)"
   ]
  },
  {
   "cell_type": "code",
   "execution_count": 15,
   "metadata": {},
   "outputs": [
    {
     "name": "stdout",
     "output_type": "stream",
     "text": [
      "313/313 [==============================] - 1s 2ms/step - loss: 0.2999 - accuracy: 0.9125\n"
     ]
    }
   ],
   "source": [
    "test_loss, test_acc = network.evaluate(test_x, test_y)"
   ]
  },
  {
   "cell_type": "code",
   "execution_count": 41,
   "metadata": {},
   "outputs": [
    {
     "data": {
      "image/png": "[encoded data removed]",
      "text/plain": [
       "<Figure size 432x288 with 9 Axes>"
      ]
     },
     "metadata": {
      "needs_background": "light"
     },
     "output_type": "display_data"
    }
   ],
   "source": [
    "(mnist_train_x,mnist_train_y),(mnist_test_x,mnist_test_y) = mnist.load_data(path='./mnist.npz')\n",
    "\n",
    "digit = mnist_train_x[:10]\n",
    "\n",
    "import matplotlib.pyplot as plt\n",
    "\n",
    "for i in range(1,10):\n",
    "    plt.subplot(3,3,i)\n",
    "    plt.imshow(digit[i], cmap=plt.cm.binary)\n",
    "    plt.title(network.predict(digit[i].reshape(-1, 28 * 28)/255.).argmax())\n",
    "\n",
    "plt.subplots_adjust(wspace =.9, hspace =.9)   \n",
    "plt.show()"
   ]
  },
  {
   "cell_type": "code",
   "execution_count": null,
   "metadata": {},
   "outputs": [],
   "source": []
  }
 ],
 "metadata": {
  "kernelspec": {
   "display_name": "Python 3",
   "language": "python",
   "name": "python3"
  },
  "language_info": {
   "codemirror_mode": {
    "name": "ipython",
    "version": 3
   },
   "file_extension": ".py",
   "mimetype": "text/x-python",
   "name": "python",
   "nbconvert_exporter": "python",
   "pygments_lexer": "ipython3",
   "version": "3.7.4"
  }
 },
 "nbformat": 4,
 "nbformat_minor": 2
}
